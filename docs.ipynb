{
 "cells": [
  {
   "cell_type": "markdown",
   "metadata": {},
   "source": [
    "## Appendix: Twitter Profile Classifier (Teacher, Non-Teacher)"
   ]
  },
  {
   "cell_type": "markdown",
   "metadata": {},
   "source": [
    "### Last mod: Dec 30th, 2020"
   ]
  },
  {
   "cell_type": "markdown",
   "metadata": {},
   "source": [
    "Input:\n",
    "* coded-profiles.csv\n",
    "    * 517 hand-coded Twitter user profiles for training data\n",
    "* userdata.csv\n",
    "    * user data from all Tweets in the study data to be predicted after classifier fit\n",
    "    \n",
    "Output:\n",
    "* predictions.csv\n",
    "    * classifications (teacher, non-teacher) for userdata.csv"
   ]
  },
  {
   "cell_type": "code",
   "execution_count": 31,
   "metadata": {},
   "outputs": [
    {
     "name": "stdout",
     "output_type": "stream",
     "text": [
      "3.7.0\n"
     ]
    }
   ],
   "source": [
    "from platform import python_version\n",
    "print(python_version())"
   ]
  },
  {
   "cell_type": "code",
   "execution_count": 2,
   "metadata": {},
   "outputs": [],
   "source": [
    "import pandas as pd\n",
    "import numpy as np\n",
    "import matplotlib.pyplot as plt\n",
    "from sklearn.model_selection import train_test_split \n",
    "from sklearn.preprocessing import StandardScaler \n",
    "from sklearn.svm import SVC \n",
    "from sklearn.metrics import confusion_matrix, accuracy_score, cohen_kappa_score\n",
    "from sklearn.metrics import precision_recall_fscore_support, roc_curve, roc_auc_score\n",
    "from nltk.corpus import stopwords"
   ]
  },
  {
   "cell_type": "markdown",
   "metadata": {},
   "source": [
    "### Read in data and remove empty cases"
   ]
  },
  {
   "cell_type": "code",
   "execution_count": 3,
   "metadata": {},
   "outputs": [],
   "source": [
    "df = pd.read_csv(\"coded-profiles.csv\", encoding=\"ISO-8859-1\")\n",
    "df = df.dropna(subset=[\"Category\"]) # drop cases without labels, file has a couple of empty rows"
   ]
  },
  {
   "cell_type": "markdown",
   "metadata": {},
   "source": [
    "### Code Teacher as 1, remaining categories as 0"
   ]
  },
  {
   "cell_type": "code",
   "execution_count": 4,
   "metadata": {},
   "outputs": [],
   "source": [
    "categories = set(df.Category)\n",
    "categories.remove(\"Teacher\")\n",
    "\n",
    "for category in categories:\n",
    "    df.loc[df[\"Category\"] == category, \"Category\"] = \"Not Teacher\""
   ]
  },
  {
   "cell_type": "code",
   "execution_count": 5,
   "metadata": {},
   "outputs": [
    {
     "data": {
      "text/plain": [
       "6.0"
      ]
     },
     "execution_count": 5,
     "metadata": {},
     "output_type": "execute_result"
    }
   ],
   "source": [
    "round(df.description.isnull().sum() / df.shape[0], 2) * 100 # 6% of coded profiles do not have a Twitter bio text"
   ]
  },
  {
   "cell_type": "markdown",
   "metadata": {},
   "source": [
    "### For generating words that might distinguish between teachers and non-teachers, we looked at the most common words in Twitter user bios in our training sample."
   ]
  },
  {
   "cell_type": "code",
   "execution_count": 6,
   "metadata": {},
   "outputs": [
    {
     "name": "stdout",
     "output_type": "stream",
     "text": [
      "[('', 442), ('science', 279), ('teacher', 234), ('educator', 83), ('school', 79)]\n"
     ]
    }
   ],
   "source": [
    "des = df.description.dropna()\n",
    "all_des = \" \".join(list(des))\n",
    "\n",
    "punctuation = '''!()-[]{};:'\"\\,<>./?@#$%^&*_|~'''\n",
    "no_punctuation = \"\"\n",
    "for char in all_des:\n",
    "    if char not in punctuation:\n",
    "        no_punctuation = no_punctuation + char\n",
    "\n",
    "all_des = no_punctuation.lower()\n",
    "\n",
    "d = {}\n",
    "\n",
    "for word in all_des.split(\" \"):\n",
    "    if word not in d:\n",
    "        d[word] = 1\n",
    "    else:\n",
    "        d[word] += 1\n",
    "\n",
    "tups = list(d.items())\n",
    "\n",
    "tups.sort(key=lambda tup: tup[1], reverse=True) \n",
    "\n",
    "tups = [pair for pair in tups if pair[0] not in stopwords.words(\"english\")]\n",
    "\n",
    "print(tups[0:5]) # example results, first entry most likely results from trailing characters"
   ]
  },
  {
   "cell_type": "markdown",
   "metadata": {},
   "source": [
    "### For textual pre-processing of Twitter bio texts, we removed punctuation and converted texts to lower case. This is done for standardizing our keywords (see next cell, e.g., \"k-12\" to \"k12\" and \"Teacher\" to \"teacher\")."
   ]
  },
  {
   "cell_type": "code",
   "execution_count": 7,
   "metadata": {},
   "outputs": [],
   "source": [
    "punctuation = '''!()-[]{};:'\"\\,<>./?@#$%^&*_|~'''\n",
    "\n",
    "res = []\n",
    "\n",
    "for description in df.description.values:\n",
    "\n",
    "    no_punctuation = \"\"\n",
    "    for char in str(description):\n",
    "        if char not in punctuation:\n",
    "            no_punctuation = no_punctuation + char\n",
    "    \n",
    "    res.append(no_punctuation.lower())\n",
    "\n",
    "df.description = res"
   ]
  },
  {
   "cell_type": "markdown",
   "metadata": {},
   "source": [
    "### Our classifier was based on binary variables indicating the presence or absence of the following keywords in Twitter bio texts"
   ]
  },
  {
   "cell_type": "code",
   "execution_count": 8,
   "metadata": {},
   "outputs": [],
   "source": [
    "teacherwords = [\"teacher\", \"teaching\", \"educator\", \"instructor\", \"k12\", \"k8\", \"k5\"]\n",
    "non_teacherwords = [\"prof\"]  \n",
    "\n",
    "for word in teacherwords + non_teacherwords:\n",
    "    res = []\n",
    "    for text in list(df.description.values):\n",
    "        if word in str(text):\n",
    "            res.append(1)\n",
    "        else:\n",
    "            res.append(0)\n",
    "    df[str(\"has_\" + word)] = res"
   ]
  },
  {
   "cell_type": "markdown",
   "metadata": {},
   "source": [
    "### We trained our classifier, a support-vector machine called SVC from sklearn.svm, on the following variables with the following hyperparameters and with a test set size of 10%:"
   ]
  },
  {
   "cell_type": "code",
   "execution_count": 9,
   "metadata": {},
   "outputs": [],
   "source": [
    "labels = df.Category\n",
    "training = df.drop(columns=[\"Category\", \"Code\", \"Description\",\n",
    "                           \"screen_name\", \"description\", \"location\",\n",
    "                           \"id\", \"handle\", \"full\", \"error\", \"url\",\n",
    "                           \"name\", \"created\", \"protected\",\n",
    "                           \"profileImageURL\", \"url\", \"cache_date\",\n",
    "                           \"random_num\", \"n\", \"statusesCount\", \n",
    "                           \"followersCount\", \"friendsCount\",\n",
    "                           \"favoritesCount\", \"listCount\"])"
   ]
  },
  {
   "cell_type": "code",
   "execution_count": 10,
   "metadata": {},
   "outputs": [
    {
     "name": "stdout",
     "output_type": "stream",
     "text": [
      "Index(['has_teacher', 'has_teaching', 'has_educator', 'has_instructor',\n",
      "       'has_k12', 'has_k8', 'has_k5', 'has_prof'],\n",
      "      dtype='object')\n"
     ]
    }
   ],
   "source": [
    "print(training.columns)"
   ]
  },
  {
   "cell_type": "code",
   "execution_count": 11,
   "metadata": {},
   "outputs": [],
   "source": [
    "X_train, X_test, y_train, y_test = train_test_split(training, labels, test_size = 0.1, random_state = 0)"
   ]
  },
  {
   "cell_type": "code",
   "execution_count": 12,
   "metadata": {},
   "outputs": [],
   "source": [
    "sc = StandardScaler() \n",
    "X_train = sc.fit_transform(X_train) \n",
    "X_test = sc.transform(X_test)"
   ]
  },
  {
   "cell_type": "code",
   "execution_count": 13,
   "metadata": {},
   "outputs": [],
   "source": [
    "classifier = SVC(kernel = 'rbf', random_state = 0, gamma = 0.5) \n",
    "classifier.fit(X_train, y_train) \n",
    "\n",
    "y_pred = classifier.predict(X_test)\n",
    "y_pred_prob = classifier.decision_function(X_test) # get probabilities for ROC curve"
   ]
  },
  {
   "cell_type": "markdown",
   "metadata": {},
   "source": [
    "### We evaluated our classifier through a range of indices"
   ]
  },
  {
   "cell_type": "markdown",
   "metadata": {},
   "source": [
    "1) Out-of-sample accuracy and confusion matrix, 10% test split"
   ]
  },
  {
   "cell_type": "code",
   "execution_count": 14,
   "metadata": {},
   "outputs": [
    {
     "name": "stdout",
     "output_type": "stream",
     "text": [
      "                  pred:teacher  pred:non-teacher\n",
      "test:teacher                22                 2\n",
      "test:non-teacher             6                22 \n",
      "\n",
      "84.62\n"
     ]
    }
   ],
   "source": [
    "cm = pd.DataFrame(\n",
    "    confusion_matrix(y_test, y_pred, labels=['Teacher', 'Not Teacher']), \n",
    "    index=['test:teacher', 'test:non-teacher'], \n",
    "    columns=['pred:teacher', 'pred:non-teacher']\n",
    ")\n",
    "print(cm, \"\\n\")\n",
    "print(round(accuracy_score(y_test, y_pred) * 100, 2))"
   ]
  },
  {
   "cell_type": "markdown",
   "metadata": {},
   "source": [
    "2) ROC curve and AUC value"
   ]
  },
  {
   "cell_type": "code",
   "execution_count": 15,
   "metadata": {},
   "outputs": [],
   "source": [
    "# Converting out of sample test set to correct data type\n",
    "y_test[y_test==\"Teacher\"] = 1\n",
    "y_test[y_test==\"Not Teacher\"] = 0\n",
    "\n",
    "y_test = np.array(y_test, dtype=\"int\")"
   ]
  },
  {
   "cell_type": "code",
   "execution_count": 16,
   "metadata": {},
   "outputs": [
    {
     "data": {
      "image/png": "[encoded data removed]",
      "text/plain": [
       "<Figure size 432x288 with 1 Axes>"
      ]
     },
     "metadata": {
      "needs_background": "light"
     },
     "output_type": "display_data"
    }
   ],
   "source": [
    "fpr, tpr, _ = roc_curve(y_test, y_pred_prob)\n",
    "auc = roc_auc_score(y_test, y_pred_prob)\n",
    "\n",
    "plt.plot(fpr, tpr, label=\"ROC curve, AUC=\"+str(round(auc, 3)))\n",
    "plt.plot([0, 1], [0, 1], color='navy', lw=2, linestyle='--')\n",
    "plt.xlabel('False Positive Rate')\n",
    "plt.ylabel('True Positive Rate')\n",
    "plt.legend(loc=4)\n",
    "plt.show()"
   ]
  },
  {
   "cell_type": "markdown",
   "metadata": {},
   "source": [
    "3) Cohen's Kappa (after predicting the whole training data set with the fitted classifier)"
   ]
  },
  {
   "cell_type": "code",
   "execution_count": 17,
   "metadata": {},
   "outputs": [
    {
     "name": "stdout",
     "output_type": "stream",
     "text": [
      "0.612\n"
     ]
    }
   ],
   "source": [
    "y_test = df.Category\n",
    "y_pred = classifier.predict(training)\n",
    "\n",
    "result = pd.concat([y_test, pd.Series(y_pred)], axis=1)\n",
    "result.columns = [\"label\", \"prediction\"]\n",
    "\n",
    "print(round(cohen_kappa_score(result.label, result.prediction), 3))"
   ]
  },
  {
   "cell_type": "markdown",
   "metadata": {},
   "source": [
    "4) Several additional measures for classification model diagnostics on full training set"
   ]
  },
  {
   "cell_type": "code",
   "execution_count": 18,
   "metadata": {},
   "outputs": [
    {
     "name": "stdout",
     "output_type": "stream",
     "text": [
      "Model Diagnostics Summary on Full Training Set for Classification as Teacher\n",
      "\n",
      "precision:\t0.716\n",
      "recall:\t\t0.922\n",
      "fscore:\t\t0.806\n",
      "support:\t230\n"
     ]
    }
   ],
   "source": [
    "precision, recall, fscore, support = precision_recall_fscore_support(result.label, result.prediction, \n",
    "                                                                     labels=[\"Teacher\", \"Not Teacher\"])\n",
    "\n",
    "print('Model Diagnostics Summary on Full Training Set for Classification as Teacher\\n')\n",
    "print('precision:\\t{}'.format(round(precision[0], 3)))\n",
    "print('recall:\\t\\t{}'.format(round(recall[0], 3)))\n",
    "print('fscore:\\t\\t{}'.format(round(fscore[0], 3)))\n",
    "print('support:\\t{}'.format(support[0]))"
   ]
  },
  {
   "cell_type": "markdown",
   "metadata": {},
   "source": [
    "### The remaining part of the documentation showcases pre-processing and application of our fitted classifier on the study sample (userdata.csv)."
   ]
  },
  {
   "cell_type": "code",
   "execution_count": 19,
   "metadata": {},
   "outputs": [],
   "source": [
    "users = pd.read_csv(\"userdata.csv\", encoding=\"ISO-8859-1\")"
   ]
  },
  {
   "cell_type": "code",
   "execution_count": 20,
   "metadata": {},
   "outputs": [],
   "source": [
    "users = users.drop(columns=[\"account_created_at\",\n",
    "                           \"verified\", \"profile_url\", \"profile_expanded_url\",\n",
    "                           \"account_lang\", \"profile_banner_url\", \"profile_background_url\",\n",
    "                           \"profile_image_url\", \"Unnamed: 0\", \"user_id\", \"screen_name\",\n",
    "                           \"name\", \"location\", \"url\", \"protected\"])"
   ]
  },
  {
   "cell_type": "code",
   "execution_count": 21,
   "metadata": {},
   "outputs": [],
   "source": [
    "users = users.rename(columns={\"statuses_count\": \"statusesCount\",\n",
    "                      \"followers_count\": \"followersCount\",\n",
    "                      \"friends_count\": \"friendsCount\",\n",
    "                      \"favourites_count\": \"favoritesCount\",\n",
    "                      \"listed_count\": \"listCount\"})"
   ]
  },
  {
   "cell_type": "code",
   "execution_count": 22,
   "metadata": {},
   "outputs": [],
   "source": [
    "users = users.drop(columns=[\"statusesCount\", \n",
    "                           \"followersCount\", \"friendsCount\",\n",
    "                           \"favoritesCount\", \"listCount\"])"
   ]
  },
  {
   "cell_type": "code",
   "execution_count": 23,
   "metadata": {},
   "outputs": [],
   "source": [
    "punctuation = '''!()-[]{};:'\"\\,<>./?@#$%^&*_~'''\n",
    "\n",
    "res = []\n",
    "\n",
    "for description in users.description.values:\n",
    "\n",
    "    no_punctuation = \"\"\n",
    "    for char in str(description):\n",
    "        if char not in punctuation:\n",
    "            no_punctuation = no_punctuation + char\n",
    "    \n",
    "    res.append(no_punctuation.lower())\n",
    "\n",
    "users.description = res"
   ]
  },
  {
   "cell_type": "code",
   "execution_count": 24,
   "metadata": {},
   "outputs": [],
   "source": [
    "teacherwords = [\"teacher\", \"teaching\", \"educator\", \"instructor\", \"k12\", \"k8\", \"k5\"]\n",
    "non_teacherwords = [\"prof\"]  \n",
    "\n",
    "for word in teacherwords + non_teacherwords:\n",
    "    res = []\n",
    "    for text in list(users.description.values):\n",
    "        if word in str(text):\n",
    "            res.append(1)\n",
    "        else:\n",
    "            res.append(0)\n",
    "    users[str(\"has_\" + word)] = res"
   ]
  },
  {
   "cell_type": "code",
   "execution_count": 25,
   "metadata": {},
   "outputs": [],
   "source": [
    "users = users.drop(columns=\"description\")"
   ]
  },
  {
   "cell_type": "code",
   "execution_count": 26,
   "metadata": {},
   "outputs": [],
   "source": [
    "y_pred = classifier.predict(users)"
   ]
  },
  {
   "cell_type": "code",
   "execution_count": 27,
   "metadata": {},
   "outputs": [],
   "source": [
    "predictions = pd.DataFrame(y_pred)\n",
    "predictions.columns = [\"prediction_by_keywords\"]"
   ]
  },
  {
   "cell_type": "code",
   "execution_count": 28,
   "metadata": {},
   "outputs": [],
   "source": [
    "predictions = predictions.replace(\"Teacher\", 1)\n",
    "predictions = predictions.replace(\"Not Teacher\", 0)"
   ]
  },
  {
   "cell_type": "code",
   "execution_count": 29,
   "metadata": {},
   "outputs": [],
   "source": [
    "predictions.to_csv(\"predictions.csv\", index=False)"
   ]
  },
  {
   "cell_type": "code",
   "execution_count": 30,
   "metadata": {},
   "outputs": [
    {
     "data": {
      "text/plain": [
       "0    346613\n",
       "1    224765\n",
       "Name: prediction_by_keywords, dtype: int64"
      ]
     },
     "execution_count": 30,
     "metadata": {},
     "output_type": "execute_result"
    }
   ],
   "source": [
    "predictions.prediction_by_keywords.value_counts()  # overview on predictions (Tweet level)"
   ]
  }
 ],
 "metadata": {
  "kernelspec": {
   "display_name": "Python 3",
   "language": "python",
   "name": "python3"
  },
  "language_info": {
   "codemirror_mode": {
    "name": "ipython",
    "version": 3
   },
   "file_extension": ".py",
   "mimetype": "text/x-python",
   "name": "python",
   "nbconvert_exporter": "python",
   "pygments_lexer": "ipython3",
   "version": "3.8.2"
  }
 },
 "nbformat": 4,
 "nbformat_minor": 4
}
